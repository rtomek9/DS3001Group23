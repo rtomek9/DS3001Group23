{
  "nbformat": 4,
  "nbformat_minor": 0,
  "metadata": {
    "colab": {
      "provenance": [],
      "include_colab_link": true
    },
    "kernelspec": {
      "name": "python3",
      "display_name": "Python 3"
    },
    "language_info": {
      "name": "python"
    }
  },
  "cells": [
    {
      "cell_type": "markdown",
      "metadata": {
        "id": "view-in-github",
        "colab_type": "text"
      },
      "source": [
        "<a href=\"https://colab.research.google.com/github/rtomek9/DS3001Group23/blob/main/Variables.ipynb\" target=\"_parent\"><img src=\"https://colab.research.google.com/assets/colab-badge.svg\" alt=\"Open In Colab\"/></a>"
      ]
    },
    {
      "cell_type": "code",
      "execution_count": 1,
      "metadata": {
        "colab": {
          "base_uri": "https://localhost:8080/"
        },
        "id": "7qVV8In4OyMm",
        "outputId": "8c989577-551e-46fd-c5b2-c2b7114c5128"
      },
      "outputs": [
        {
          "output_type": "stream",
          "name": "stdout",
          "text": [
            "https://github.com/DS3001/project_gss/raw/main/gss_chunk_1.parquet\n",
            "   year  id            wrkstat  hrs1  hrs2 evwork    occ  prestige  \\\n",
            "0  1972   1  working full time   NaN   NaN    NaN  205.0      50.0   \n",
            "1  1972   2            retired   NaN   NaN    yes  441.0      45.0   \n",
            "2  1972   3  working part time   NaN   NaN    NaN  270.0      44.0   \n",
            "3  1972   4  working full time   NaN   NaN    NaN    1.0      57.0   \n",
            "4  1972   5      keeping house   NaN   NaN    yes  385.0      40.0   \n",
            "\n",
            "         wrkslf wrkgovt  ...  agehef12 agehef13 agehef14  hompoph wtssps_nea  \\\n",
            "0  someone else     NaN  ...       NaN      NaN      NaN      NaN        NaN   \n",
            "1  someone else     NaN  ...       NaN      NaN      NaN      NaN        NaN   \n",
            "2  someone else     NaN  ...       NaN      NaN      NaN      NaN        NaN   \n",
            "3  someone else     NaN  ...       NaN      NaN      NaN      NaN        NaN   \n",
            "4  someone else     NaN  ...       NaN      NaN      NaN      NaN        NaN   \n",
            "\n",
            "   wtssnrps_nea  wtssps_next wtssnrps_next wtsscomp wtsscompnr  \n",
            "0           NaN          NaN           NaN   0.4446        NaN  \n",
            "1           NaN          NaN           NaN   0.8893        NaN  \n",
            "2           NaN          NaN           NaN   0.8893        NaN  \n",
            "3           NaN          NaN           NaN   0.8893        NaN  \n",
            "4           NaN          NaN           NaN   0.8893        NaN  \n",
            "\n",
            "[5 rows x 6694 columns]\n",
            "https://github.com/DS3001/project_gss/raw/main/gss_chunk_2.parquet\n",
            "   year   id            wrkstat  hrs1  hrs2 evwork    occ  prestige  \\\n",
            "0  1989  775            retired   NaN   NaN    yes  540.0      36.0   \n",
            "1  1989  776  working full time  40.0   NaN    NaN  925.0      36.0   \n",
            "2  1989  777            retired   NaN   NaN    yes   80.0      61.0   \n",
            "3  1989  778  working full time  44.0   NaN    NaN  912.0      26.0   \n",
            "4  1989  779            retired   NaN   NaN    yes  690.0      32.0   \n",
            "\n",
            "         wrkslf wrkgovt  ...  agehef12 agehef13 agehef14  hompoph wtssps_nea  \\\n",
            "0  someone else     NaN  ...       NaN      NaN      NaN      NaN        NaN   \n",
            "1  someone else     NaN  ...       NaN      NaN      NaN      NaN        NaN   \n",
            "2  someone else     NaN  ...       NaN      NaN      NaN      NaN        NaN   \n",
            "3  someone else     NaN  ...       NaN      NaN      NaN      NaN        NaN   \n",
            "4  someone else     NaN  ...       NaN      NaN      NaN      NaN        NaN   \n",
            "\n",
            "   wtssnrps_nea  wtssps_next wtssnrps_next  wtsscomp wtsscompnr  \n",
            "0           NaN          NaN           NaN  1.295069        NaN  \n",
            "1           NaN          NaN           NaN  0.483624        NaN  \n",
            "2           NaN          NaN           NaN  0.407988        NaN  \n",
            "3           NaN          NaN           NaN  1.225988        NaN  \n",
            "4           NaN          NaN           NaN  0.504302        NaN  \n",
            "\n",
            "[5 rows x 6694 columns]\n",
            "https://github.com/DS3001/project_gss/raw/main/gss_chunk_3.parquet\n",
            "   year    id            wrkstat  hrs1  hrs2 evwork  occ  prestige  \\\n",
            "0  2006  1751  working full time  40.0   NaN    NaN  NaN       NaN   \n",
            "1  2006  1752          in school   NaN   NaN    yes  NaN       NaN   \n",
            "2  2006  1753  working full time  35.0   NaN    NaN  NaN       NaN   \n",
            "3  2006  1754  working full time  50.0   NaN    NaN  NaN       NaN   \n",
            "4  2006  1755  working full time  40.0   NaN    NaN  NaN       NaN   \n",
            "\n",
            "         wrkslf     wrkgovt  ...  agehef12 agehef13 agehef14  hompoph  \\\n",
            "0  someone else  government  ...       NaN      NaN      NaN      NaN   \n",
            "1  someone else     private  ...       NaN      NaN      NaN      NaN   \n",
            "2  someone else  government  ...       NaN      NaN      NaN      NaN   \n",
            "3  someone else  government  ...       NaN      NaN      NaN      NaN   \n",
            "4  someone else     private  ...       NaN      NaN      NaN      NaN   \n",
            "\n",
            "  wtssps_nea  wtssnrps_nea  wtssps_next wtssnrps_next  wtsscomp wtsscompnr  \n",
            "0        NaN           NaN          NaN           NaN  1.079141   0.961150  \n",
            "1        NaN           NaN          NaN           NaN  7.673834   6.641571  \n",
            "2        NaN           NaN          NaN           NaN  0.584663   0.512145  \n",
            "3        NaN           NaN          NaN           NaN  0.715731   0.637592  \n",
            "4        NaN           NaN          NaN           NaN  1.094831   0.956094  \n",
            "\n",
            "[5 rows x 6694 columns]\n"
          ]
        }
      ],
      "source": [
        "# Test file for github\n",
        "\n",
        "x = ' Hello World'\n",
        "\n",
        "\n",
        "import pandas as pd\n",
        "#\n",
        "var_list = ['happy', 'hapunhap','relig','attend', 'relig16','age','income'] # List of variables you want to save\n",
        "output_filename = 'selected_gss_data.csv' # Name of the file you want to save the data to\n",
        "#\n",
        "modes = ['w','a'] # Has write mode and append mode\n",
        "phase = 0 # Starts in write mode; after one iteration of loop, switches to append mode\n",
        "#\n",
        "for k in range(3): # for each chunk of the data\n",
        "    url = 'https://github.com/DS3001/project_gss/raw/main/gss_chunk_' + str(1+k) + '.parquet' # Create url to the chunk to be processed\n",
        "    print(url) # Check the url is correct\n",
        "    df = pd.read_parquet(url) # Download this chunk of data\n",
        "    print(df.head()) # Visually inspect the first few rows\n",
        "    df.loc[:,var_list].to_csv(output_filename, # specifies target file to save the chunk to\n",
        "                              mode=modes[phase], # control write versus append\n",
        "                              header=var_list, # variable names\n",
        "                              index=False) # no row index saved\n",
        "    phase = 1 # Switch from write mode to append mode"
      ]
    },
    {
      "cell_type": "code",
      "source": [
        "# Cleaning attend\n",
        "print(df.shape)\n",
        "print(df.head())\n",
        "print(df['attend'].describe())\n",
        "print(df['attend'].unique())\n",
        "print(df['attend'].value_counts())\n",
        "\n",
        "# Looks pretty good already"
      ],
      "metadata": {
        "id": "nUGtLl3TeFZc",
        "outputId": "e1d8df46-63e2-4a5b-ef2e-abc182282f70",
        "colab": {
          "base_uri": "https://localhost:8080/"
        }
      },
      "execution_count": 2,
      "outputs": [
        {
          "output_type": "stream",
          "name": "stdout",
          "text": [
            "(24130, 6694)\n",
            "   year    id            wrkstat  hrs1  hrs2 evwork  occ  prestige  \\\n",
            "0  2006  1751  working full time  40.0   NaN    NaN  NaN       NaN   \n",
            "1  2006  1752          in school   NaN   NaN    yes  NaN       NaN   \n",
            "2  2006  1753  working full time  35.0   NaN    NaN  NaN       NaN   \n",
            "3  2006  1754  working full time  50.0   NaN    NaN  NaN       NaN   \n",
            "4  2006  1755  working full time  40.0   NaN    NaN  NaN       NaN   \n",
            "\n",
            "         wrkslf     wrkgovt  ...  agehef12 agehef13 agehef14  hompoph  \\\n",
            "0  someone else  government  ...       NaN      NaN      NaN      NaN   \n",
            "1  someone else     private  ...       NaN      NaN      NaN      NaN   \n",
            "2  someone else  government  ...       NaN      NaN      NaN      NaN   \n",
            "3  someone else  government  ...       NaN      NaN      NaN      NaN   \n",
            "4  someone else     private  ...       NaN      NaN      NaN      NaN   \n",
            "\n",
            "  wtssps_nea  wtssnrps_nea  wtssps_next wtssnrps_next  wtsscomp wtsscompnr  \n",
            "0        NaN           NaN          NaN           NaN  1.079141   0.961150  \n",
            "1        NaN           NaN          NaN           NaN  7.673834   6.641571  \n",
            "2        NaN           NaN          NaN           NaN  0.584663   0.512145  \n",
            "3        NaN           NaN          NaN           NaN  0.715731   0.637592  \n",
            "4        NaN           NaN          NaN           NaN  1.094831   0.956094  \n",
            "\n",
            "[5 rows x 6694 columns]\n",
            "count     23944\n",
            "unique        9\n",
            "top       never\n",
            "freq       6430\n",
            "Name: attend, dtype: object\n",
            "['never', 'less than once a year', 'several times a year', 'every week', 'about once or twice a year', 'nearly every week', 'about once a month', 'several times a week', '2-3 times a month', NaN]\n",
            "Categories (22, object): ['never', 'less than once a year', 'about once or twice a year',\n",
            "                          'several times a year', ..., 'uncodeable', 'not available in this release',\n",
            "                          'not available in this year', 'see codebook']\n",
            "never                            6430\n",
            "every week                       3914\n",
            "about once or twice a year       3140\n",
            "several times a year             2480\n",
            "less than once a year            2061\n",
            "2-3 times a month                1804\n",
            "several times a week             1505\n",
            "about once a month               1348\n",
            "nearly every week                1262\n",
            "not imputable_(2147483638)          0\n",
            "not available in this year          0\n",
            "not available in this release       0\n",
            "uncodeable                          0\n",
            "skipped on web                      0\n",
            "refused                             0\n",
            "I don't have a job                  0\n",
            "not imputable_(2147483637)          0\n",
            "no answer                           0\n",
            "dk, na, iap                         0\n",
            "iap                                 0\n",
            "don't know                          0\n",
            "see codebook                        0\n",
            "Name: attend, dtype: int64\n"
          ]
        }
      ]
    },
    {
      "cell_type": "code",
      "source": [
        "# Cleaning relig16\n",
        "print(df['relig16'].describe())\n",
        "print(df['relig16'].unique())\n",
        "print(df['relig16'].value_counts())\n",
        "\n",
        "# Looks pretty good\n",
        "# Rename for clarity\n",
        "df = df.rename(columns = {'relig16':'relig_fam'})\n"
      ],
      "metadata": {
        "id": "FHdIT4OSipoX",
        "outputId": "d895c7a8-19d6-4172-ca8d-f3a045b3dfe9",
        "colab": {
          "base_uri": "https://localhost:8080/"
        }
      },
      "execution_count": 3,
      "outputs": [
        {
          "output_type": "stream",
          "name": "stdout",
          "text": [
            "count          22934\n",
            "unique            13\n",
            "top       protestant\n",
            "freq           11858\n",
            "Name: relig16, dtype: object\n",
            "[NaN, 'catholic', 'protestant', 'none', 'christian', ..., 'muslim/islam', 'buddhism', 'native american', 'other', 'inter-nondenominational']\n",
            "Length: 14\n",
            "Categories (26, object): ['protestant', 'catholic', 'jewish', 'none', ..., 'uncodeable',\n",
            "                          'not available in this release', 'not available in this year', 'see codebook']\n",
            "protestant                       11858\n",
            "catholic                          7387\n",
            "none                              2242\n",
            "christian                          400\n",
            "jewish                             397\n",
            "other                              156\n",
            "hinduism                           137\n",
            "muslim/islam                       121\n",
            "buddhism                           117\n",
            "orthodox-christian                  89\n",
            "native american                     12\n",
            "inter-nondenominational             12\n",
            "other eastern religions              6\n",
            "not imputable_(2147483638)           0\n",
            "not available in this year           0\n",
            "not available in this release        0\n",
            "uncodeable                           0\n",
            "skipped on web                       0\n",
            "refused                              0\n",
            "don't know                           0\n",
            "not imputable_(2147483637)           0\n",
            "no answer                            0\n",
            "dk, na, iap                          0\n",
            "I don't have a job                   0\n",
            "iap                                  0\n",
            "see codebook                         0\n",
            "Name: relig16, dtype: int64\n"
          ]
        }
      ]
    },
    {
      "cell_type": "code",
      "source": [
        "# Cleaning age\n",
        "print(df['age'].describe())\n",
        "print(df['age'].unique())\n",
        "print(df['age'].value_counts())\n",
        "print(df['age'].dtype)\n",
        "\n",
        "# Looks pretty good\n",
        "# Cast as int to make it cleaner\n",
        "df['age'] = df['age'].astype('Int64')\n",
        "\n",
        "print(df['age'].dtype)\n"
      ],
      "metadata": {
        "id": "wVPpasYZkoxh",
        "outputId": "78287a06-d630-4ca1-a02f-ba612fcfbc2d",
        "colab": {
          "base_uri": "https://localhost:8080/"
        }
      },
      "execution_count": 10,
      "outputs": [
        {
          "output_type": "stream",
          "name": "stdout",
          "text": [
            "count    23539.000000\n",
            "mean        49.094651\n",
            "std         17.633970\n",
            "min         18.000000\n",
            "25%         34.000000\n",
            "50%         48.000000\n",
            "75%         63.000000\n",
            "max         89.000000\n",
            "Name: age, dtype: float64\n",
            "[48. 25. 42. 24. 31. 46. 52. 50. 32. 57. 62. 66. 34. 30. 27. 59. 19. 23.\n",
            " 35. 44. 78. 33. 21. 77. 70. 69. 26. 89. 37. 68. 83. 61. 72. 53. 79. 58.\n",
            " 36. 51. 56. 43. 40. 82. 41. 73. 85. 64. 22. 39. 75. 80. 49. 76. 60. 74.\n",
            " 28. 47. 63. 20. 55. 18. 81. 86. 67. 45. 84. nan 38. 65. 54. 29. 71. 87.\n",
            " 88.]\n",
            "33.0    460\n",
            "60.0    452\n",
            "39.0    451\n",
            "34.0    448\n",
            "30.0    448\n",
            "       ... \n",
            "18.0     97\n",
            "86.0     91\n",
            "85.0     80\n",
            "87.0     57\n",
            "88.0     52\n",
            "Name: age, Length: 72, dtype: int64\n",
            "float64\n",
            "Int64\n"
          ]
        }
      ]
    }
  ]
}